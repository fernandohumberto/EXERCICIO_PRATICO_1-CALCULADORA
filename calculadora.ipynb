{
 "cells": [
  {
   "cell_type": "code",
   "execution_count": null,
   "id": "a7b1edf7",
   "metadata": {},
   "outputs": [
    {
     "name": "stdout",
     "output_type": "stream",
     "text": [
      "Resultado: 1\n"
     ]
    }
   ],
   "source": [
    "# Função para obter um número do usuário com validação\n",
    "def obter_numero(prompt):\n",
    "    while True:\n",
    "        try:\n",
    "            return float(input(prompt))  # Converte a entrada em float\n",
    "        except ValueError:\n",
    "            print(\"Erro: entrada inválida. Digite um número válido.\")  # Trata erro de conversão\n",
    "\n",
    "# Função para obter a operação desejada do usuário\n",
    "def obter_operacao():\n",
    "    operacoes_validas = {'+', '-', '*', '/'}\n",
    "    while True:\n",
    "        operador = input(\"Digite a operação (+, -, *, /): \")\n",
    "        if operador in operacoes_validas:\n",
    "            return operador  # Retorna se for válido\n",
    "        print(\"Erro: operação inválida. Use apenas +, -, * ou /.\")\n",
    "\n",
    "# Função para realizar o cálculo\n",
    "def calcular(num1, num2, operador):\n",
    "    if operador == '+':\n",
    "        return num1 + num2\n",
    "    elif operador == '-':\n",
    "        return num1 - num2\n",
    "    elif operador == '*':\n",
    "        return num1 * num2\n",
    "    elif operador == '/':\n",
    "        if num2 == 0:\n",
    "            raise ZeroDivisionError(\"Divisão por zero não é permitida.\")\n",
    "        return num1 / num2\n",
    "\n",
    "# Função para exibir o resultado formatado\n",
    "def exibir_resultado(resultado):\n",
    "    if resultado.is_integer():\n",
    "        print(f\"Resultado: {int(resultado)}\")  # Mostra como inteiro\n",
    "    else:\n",
    "        print(f\"Resultado: {resultado}\")  # Mostra com casas decimais\n",
    "\n",
    "# Função principal que executa o fluxo\n",
    "def main():\n",
    "    while True:\n",
    "        num1 = obter_numero(\"Digite o primeiro número: \")\n",
    "        num2 = obter_numero(\"Digite o segundo número: \")\n",
    "        operador = obter_operacao()\n",
    "\n",
    "        try:\n",
    "            resultado = calcular(num1, num2, operador)\n",
    "            exibir_resultado(resultado)\n",
    "            break  # Encerra o loop após sucesso\n",
    "        except ZeroDivisionError as erro:\n",
    "            print(f\"Erro: {erro}. Tente novamente.\")\n",
    "\n",
    "# Agrupamento \n",
    "main()\n"
   ]
  }
 ],
 "metadata": {
  "kernelspec": {
   "display_name": "Python 3",
   "language": "python",
   "name": "python3"
  },
  "language_info": {
   "codemirror_mode": {
    "name": "ipython",
    "version": 3
   },
   "file_extension": ".py",
   "mimetype": "text/x-python",
   "name": "python",
   "nbconvert_exporter": "python",
   "pygments_lexer": "ipython3",
   "version": "3.12.10"
  }
 },
 "nbformat": 4,
 "nbformat_minor": 5
}
