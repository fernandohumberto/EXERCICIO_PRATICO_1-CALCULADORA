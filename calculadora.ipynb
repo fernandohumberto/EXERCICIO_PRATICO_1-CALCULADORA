{
 "cells": [
  {
   "cell_type": "code",
   "execution_count": 7,
   "id": "a7b1edf7",
   "metadata": {},
   "outputs": [
    {
     "name": "stdout",
     "output_type": "stream",
     "text": [
      "Resultado: 30.5\n"
     ]
    }
   ],
   "source": [
    "# Função para obter um número do usuário com validação\n",
    "def obter_numero(prompt):\n",
    "    while True:\n",
    "        try:\n",
    "            return float(input(prompt))  # Tenta converter a entrada para float\n",
    "        except ValueError:\n",
    "            print(\"Erro: entrada inválida. Digite um número válido.\")  # Trata entrada não numérica\n",
    "\n",
    "# Função para obter a operação desejada do usuário, validando se é uma das permitidas\n",
    "def obter_operacao():\n",
    "    operacoes_validas = {'+', '-', '*', '/'}\n",
    "    while True:\n",
    "        operador = input(\"Digite a operação (+, -, *, /): \")\n",
    "        if operador in operacoes_validas:\n",
    "            return operador  # Retorna se for uma operação válida\n",
    "        print(\"Erro: operação inválida. Use apenas +, -, * ou /.\")  # Mensagem para operação inválida\n",
    "\n",
    "# Função para realizar o cálculo, incluindo tratamento manual da divisão por zero\n",
    "def calcular(num1, num2, operador):\n",
    "    if operador == '+':\n",
    "        return num1 + num2\n",
    "    elif operador == '-':\n",
    "        return num1 - num2\n",
    "    elif operador == '*':\n",
    "        return num1 * num2\n",
    "    elif operador == '/':\n",
    "        if num2 == 0:\n",
    "            raise ZeroDivisionError(\"Divisão por zero não é permitida.\")  # Levanta exceção se tentar dividir por zero\n",
    "        return num1 / num2\n",
    "\n",
    "# Função para exibir o resultado, formatando como inteiro se possível\n",
    "def exibir_resultado(resultado):\n",
    "    if resultado.is_integer():\n",
    "        print(f\"Resultado: {int(resultado)}\")  # Remove casas decimais se for inteiro\n",
    "    else:\n",
    "        print(f\"Resultado: {resultado}\")  # Mostra como float se tiver casas decimais\n",
    "\n",
    "# Função principal que coordena a execução do programa\n",
    "def main():\n",
    "    while True:\n",
    "        # Solicita os dois números e a operação do usuário\n",
    "        num1 = obter_numero(\"Digite o primeiro número: \")\n",
    "        num2 = obter_numero(\"Digite o segundo número: \")\n",
    "        operador = obter_operacao()\n",
    "\n",
    "        try:\n",
    "            # Realiza o cálculo e exibe o resultado\n",
    "            resultado = calcular(num1, num2, operador)\n",
    "            exibir_resultado(resultado)\n",
    "            break  # Sai do loop após sucesso\n",
    "        except ZeroDivisionError as erro:\n",
    "            print(f\"Erro: {erro}. Tente novamente.\")  # Mostra mensagem de erro e repete tudo\n",
    "\n",
    "# Protege o ponto de entrada principal do programa\n",
    "if __name__ == \"__main__\":\n",
    "    main()\n"
   ]
  }
 ],
 "metadata": {
  "kernelspec": {
   "display_name": "Python 3",
   "language": "python",
   "name": "python3"
  },
  "language_info": {
   "codemirror_mode": {
    "name": "ipython",
    "version": 3
   },
   "file_extension": ".py",
   "mimetype": "text/x-python",
   "name": "python",
   "nbconvert_exporter": "python",
   "pygments_lexer": "ipython3",
   "version": "3.12.10"
  }
 },
 "nbformat": 4,
 "nbformat_minor": 5
}
